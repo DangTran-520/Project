{
 "cells": [
  {
   "cell_type": "markdown",
   "id": "e93faf67",
   "metadata": {},
   "source": [
    "### Import Library"
   ]
  },
  {
   "cell_type": "code",
   "execution_count": 3,
   "id": "90144ed2",
   "metadata": {},
   "outputs": [],
   "source": [
    "import pandas as pd\n",
    "import numpy as np\n",
    "import matplotlib.pyplot as plt"
   ]
  },
  {
   "cell_type": "markdown",
   "id": "2ed8240e",
   "metadata": {},
   "source": [
    "### Read data"
   ]
  },
  {
   "cell_type": "code",
   "execution_count": 2,
   "id": "dc4d5abd",
   "metadata": {},
   "outputs": [],
   "source": [
    "df = pd.read_csv(\"Bank.csv\")"
   ]
  },
  {
   "cell_type": "markdown",
   "id": "672efa3a",
   "metadata": {},
   "source": [
    "### Explore Data"
   ]
  },
  {
   "cell_type": "code",
   "execution_count": 3,
   "id": "37273f66",
   "metadata": {},
   "outputs": [
    {
     "data": {
      "text/html": [
       "<div>\n",
       "<style scoped>\n",
       "    .dataframe tbody tr th:only-of-type {\n",
       "        vertical-align: middle;\n",
       "    }\n",
       "\n",
       "    .dataframe tbody tr th {\n",
       "        vertical-align: top;\n",
       "    }\n",
       "\n",
       "    .dataframe thead th {\n",
       "        text-align: right;\n",
       "    }\n",
       "</style>\n",
       "<table border=\"1\" class=\"dataframe\">\n",
       "  <thead>\n",
       "    <tr style=\"text-align: right;\">\n",
       "      <th></th>\n",
       "      <th>BRANCH_ID</th>\n",
       "      <th>CHANNEL_ID</th>\n",
       "      <th>AMOUNT</th>\n",
       "      <th>TRAN_TYPE</th>\n",
       "      <th>TRAN_TIME</th>\n",
       "    </tr>\n",
       "  </thead>\n",
       "  <tbody>\n",
       "    <tr>\n",
       "      <th>0</th>\n",
       "      <td>BR0001</td>\n",
       "      <td>MOBILE</td>\n",
       "      <td>3020080</td>\n",
       "      <td>BOOKING ORDER</td>\n",
       "      <td>12/01/2019 1:11</td>\n",
       "    </tr>\n",
       "    <tr>\n",
       "      <th>1</th>\n",
       "      <td>BR0002</td>\n",
       "      <td>ATM</td>\n",
       "      <td>2001100</td>\n",
       "      <td>CASH TRANSACTIONS</td>\n",
       "      <td>12/01/2019 11:01</td>\n",
       "    </tr>\n",
       "    <tr>\n",
       "      <th>2</th>\n",
       "      <td>BR0004</td>\n",
       "      <td>MOBILE</td>\n",
       "      <td>2140140</td>\n",
       "      <td>BOOKING ORDER</td>\n",
       "      <td>12/01/2019 1:11</td>\n",
       "    </tr>\n",
       "    <tr>\n",
       "      <th>3</th>\n",
       "      <td>BR0002</td>\n",
       "      <td>INTERNET</td>\n",
       "      <td>4293000</td>\n",
       "      <td>FINANCIAL POSTING</td>\n",
       "      <td>12/01/2019 6:50</td>\n",
       "    </tr>\n",
       "    <tr>\n",
       "      <th>4</th>\n",
       "      <td>BR0003</td>\n",
       "      <td>MOBILE</td>\n",
       "      <td>3046430</td>\n",
       "      <td>BOOKING ORDER</td>\n",
       "      <td>12/01/2019 1:11</td>\n",
       "    </tr>\n",
       "  </tbody>\n",
       "</table>\n",
       "</div>"
      ],
      "text/plain": [
       "  BRANCH_ID CHANNEL_ID   AMOUNT          TRAN_TYPE         TRAN_TIME\n",
       "0    BR0001     MOBILE  3020080      BOOKING ORDER   12/01/2019 1:11\n",
       "1    BR0002        ATM  2001100  CASH TRANSACTIONS  12/01/2019 11:01\n",
       "2    BR0004     MOBILE  2140140      BOOKING ORDER   12/01/2019 1:11\n",
       "3    BR0002   INTERNET  4293000  FINANCIAL POSTING   12/01/2019 6:50\n",
       "4    BR0003     MOBILE  3046430      BOOKING ORDER   12/01/2019 1:11"
      ]
     },
     "execution_count": 3,
     "metadata": {},
     "output_type": "execute_result"
    }
   ],
   "source": [
    "# Display first 5 rows\n",
    "df.head()"
   ]
  },
  {
   "cell_type": "code",
   "execution_count": 4,
   "id": "de6b4f84",
   "metadata": {},
   "outputs": [
    {
     "name": "stdout",
     "output_type": "stream",
     "text": [
      "<class 'pandas.core.frame.DataFrame'>\n",
      "RangeIndex: 500 entries, 0 to 499\n",
      "Data columns (total 5 columns):\n",
      " #   Column      Non-Null Count  Dtype \n",
      "---  ------      --------------  ----- \n",
      " 0   BRANCH_ID   500 non-null    object\n",
      " 1   CHANNEL_ID  500 non-null    object\n",
      " 2   AMOUNT      500 non-null    int64 \n",
      " 3   TRAN_TYPE   500 non-null    object\n",
      " 4   TRAN_TIME   500 non-null    object\n",
      "dtypes: int64(1), object(4)\n",
      "memory usage: 19.7+ KB\n"
     ]
    }
   ],
   "source": [
    "# dataset information\n",
    "df.info()"
   ]
  },
  {
   "cell_type": "code",
   "execution_count": 11,
   "id": "532555f5",
   "metadata": {},
   "outputs": [
    {
     "name": "stdout",
     "output_type": "stream",
     "text": [
      "datetime64[ns]\n"
     ]
    }
   ],
   "source": [
    "# col TRAN_TIME: object -> datetime\n",
    "df['TRAN_TIME'] = pd.to_datetime(df['TRAN_TIME'], format = '%d/%m/%Y %H:%M')\n",
    "print(df['TRAN_TIME'].dtype)"
   ]
  },
  {
   "cell_type": "code",
   "execution_count": 12,
   "id": "34ea0ff3",
   "metadata": {},
   "outputs": [
    {
     "data": {
      "text/plain": [
       "count    4.980000e+02\n",
       "mean     3.547383e+06\n",
       "std      1.605310e+07\n",
       "min      1.000000e+01\n",
       "25%      8.418000e+04\n",
       "50%      1.006600e+06\n",
       "75%      3.000000e+06\n",
       "max      3.000000e+08\n",
       "Name: AMOUNT, dtype: float64"
      ]
     },
     "execution_count": 12,
     "metadata": {},
     "output_type": "execute_result"
    }
   ],
   "source": [
    "# Check data\n",
    "df[\"AMOUNT\"].describe()"
   ]
  },
  {
   "cell_type": "code",
   "execution_count": 13,
   "id": "06e23629",
   "metadata": {},
   "outputs": [],
   "source": [
    "# Create mask to get reasonable data\n",
    "mask = df['AMOUNT']>0\n",
    "\n",
    "# Get reasonable data\n",
    "df = df[mask]"
   ]
  },
  {
   "cell_type": "code",
   "execution_count": 14,
   "id": "8588d478",
   "metadata": {},
   "outputs": [
    {
     "data": {
      "text/plain": [
       "count    4.980000e+02\n",
       "mean     3.547383e+06\n",
       "std      1.605310e+07\n",
       "min      1.000000e+01\n",
       "25%      8.418000e+04\n",
       "50%      1.006600e+06\n",
       "75%      3.000000e+06\n",
       "max      3.000000e+08\n",
       "Name: AMOUNT, dtype: float64"
      ]
     },
     "execution_count": 14,
     "metadata": {},
     "output_type": "execute_result"
    }
   ],
   "source": [
    "df['AMOUNT'].describe()"
   ]
  },
  {
   "cell_type": "code",
   "execution_count": 15,
   "id": "8ea794fa",
   "metadata": {},
   "outputs": [],
   "source": [
    "# Save df\n",
    "df.to_csv('CleanBank.csv')"
   ]
  },
  {
   "cell_type": "code",
   "execution_count": 16,
   "id": "6f8e3134",
   "metadata": {},
   "outputs": [
    {
     "name": "stdout",
     "output_type": "stream",
     "text": [
      "    TRAN_HOUR           TRAN_TIME\n",
      "0          01 2019-01-12 01:11:00\n",
      "1          11 2019-01-12 11:01:00\n",
      "2          01 2019-01-12 01:11:00\n",
      "3          06 2019-01-12 06:50:00\n",
      "4          01 2019-01-12 01:11:00\n",
      "..        ...                 ...\n",
      "495        08 2019-01-12 08:45:00\n",
      "496        21 2019-04-11 21:13:00\n",
      "497        10 2019-01-12 10:53:00\n",
      "498        08 2019-01-12 08:58:00\n",
      "499        09 2019-01-12 09:13:00\n",
      "\n",
      "[498 rows x 2 columns]\n"
     ]
    }
   ],
   "source": [
    "# Create HOUR col\n",
    "df['TRAN_HOUR'] = df['TRAN_TIME'].dt.strftime('%H')\n",
    "print(df[['TRAN_HOUR', 'TRAN_TIME']])"
   ]
  },
  {
   "cell_type": "code",
   "execution_count": 17,
   "id": "91926cf4",
   "metadata": {},
   "outputs": [
    {
     "data": {
      "text/html": [
       "<div>\n",
       "<style scoped>\n",
       "    .dataframe tbody tr th:only-of-type {\n",
       "        vertical-align: middle;\n",
       "    }\n",
       "\n",
       "    .dataframe tbody tr th {\n",
       "        vertical-align: top;\n",
       "    }\n",
       "\n",
       "    .dataframe thead th {\n",
       "        text-align: right;\n",
       "    }\n",
       "</style>\n",
       "<table border=\"1\" class=\"dataframe\">\n",
       "  <thead>\n",
       "    <tr style=\"text-align: right;\">\n",
       "      <th></th>\n",
       "      <th>BRANCH_ID</th>\n",
       "      <th>CHANNEL_ID</th>\n",
       "      <th>AMOUNT</th>\n",
       "      <th>TRAN_TYPE</th>\n",
       "      <th>TRAN_TIME</th>\n",
       "      <th>TRAN_HOUR</th>\n",
       "    </tr>\n",
       "  </thead>\n",
       "  <tbody>\n",
       "    <tr>\n",
       "      <th>0</th>\n",
       "      <td>BR0001</td>\n",
       "      <td>MOBILE</td>\n",
       "      <td>3020080</td>\n",
       "      <td>BOOKING ORDER</td>\n",
       "      <td>2019-01-12 01:11:00</td>\n",
       "      <td>01</td>\n",
       "    </tr>\n",
       "    <tr>\n",
       "      <th>1</th>\n",
       "      <td>BR0002</td>\n",
       "      <td>ATM</td>\n",
       "      <td>2001100</td>\n",
       "      <td>CASH TRANSACTIONS</td>\n",
       "      <td>2019-01-12 11:01:00</td>\n",
       "      <td>11</td>\n",
       "    </tr>\n",
       "    <tr>\n",
       "      <th>2</th>\n",
       "      <td>BR0004</td>\n",
       "      <td>MOBILE</td>\n",
       "      <td>2140140</td>\n",
       "      <td>BOOKING ORDER</td>\n",
       "      <td>2019-01-12 01:11:00</td>\n",
       "      <td>01</td>\n",
       "    </tr>\n",
       "    <tr>\n",
       "      <th>3</th>\n",
       "      <td>BR0002</td>\n",
       "      <td>INTERNET</td>\n",
       "      <td>4293000</td>\n",
       "      <td>FINANCIAL POSTING</td>\n",
       "      <td>2019-01-12 06:50:00</td>\n",
       "      <td>06</td>\n",
       "    </tr>\n",
       "    <tr>\n",
       "      <th>4</th>\n",
       "      <td>BR0003</td>\n",
       "      <td>MOBILE</td>\n",
       "      <td>3046430</td>\n",
       "      <td>BOOKING ORDER</td>\n",
       "      <td>2019-01-12 01:11:00</td>\n",
       "      <td>01</td>\n",
       "    </tr>\n",
       "  </tbody>\n",
       "</table>\n",
       "</div>"
      ],
      "text/plain": [
       "  BRANCH_ID CHANNEL_ID   AMOUNT          TRAN_TYPE           TRAN_TIME  \\\n",
       "0    BR0001     MOBILE  3020080      BOOKING ORDER 2019-01-12 01:11:00   \n",
       "1    BR0002        ATM  2001100  CASH TRANSACTIONS 2019-01-12 11:01:00   \n",
       "2    BR0004     MOBILE  2140140      BOOKING ORDER 2019-01-12 01:11:00   \n",
       "3    BR0002   INTERNET  4293000  FINANCIAL POSTING 2019-01-12 06:50:00   \n",
       "4    BR0003     MOBILE  3046430      BOOKING ORDER 2019-01-12 01:11:00   \n",
       "\n",
       "  TRAN_HOUR  \n",
       "0        01  \n",
       "1        11  \n",
       "2        01  \n",
       "3        06  \n",
       "4        01  "
      ]
     },
     "execution_count": 17,
     "metadata": {},
     "output_type": "execute_result"
    }
   ],
   "source": [
    "df.head()"
   ]
  },
  {
   "cell_type": "markdown",
   "id": "f7efe383",
   "metadata": {},
   "source": [
    "# Analyze and Visualize"
   ]
  },
  {
   "cell_type": "markdown",
   "id": "13611a68",
   "metadata": {},
   "source": [
    "### Chart 1: Pie Chart shows the proportion of amount transaction by channel"
   ]
  },
  {
   "cell_type": "code",
   "execution_count": 24,
   "id": "bb0c1d19",
   "metadata": {},
   "outputs": [
    {
     "name": "stdout",
     "output_type": "stream",
     "text": [
      "  CHANNEL_ID    Revenue\n",
      "0        ATM  179502250\n",
      "1   INTERNET  768629241\n",
      "2     MOBILE  818465352\n"
     ]
    }
   ],
   "source": [
    "# Group by channel and calculate the sum of amount\n",
    "sum_AMT_byChannel = df.groupby(['CHANNEL_ID'])['AMOUNT'].sum().reset_index(name = 'Revenue')\n",
    "print(sum_AMT_byChannel)"
   ]
  },
  {
   "cell_type": "code",
   "execution_count": 25,
   "id": "ff868a99",
   "metadata": {},
   "outputs": [
    {
     "name": "stdout",
     "output_type": "stream",
     "text": [
      "              Revenue\n",
      "CHANNEL_ID           \n",
      "ATM         179502250\n",
      "INTERNET    768629241\n",
      "MOBILE      818465352\n"
     ]
    }
   ],
   "source": [
    "df_plot = sum_AMT_byChannel\n",
    "df_plot = df_plot.set_index('CHANNEL_ID')\n",
    "print(df_plot)"
   ]
  },
  {
   "cell_type": "code",
   "execution_count": 45,
   "id": "87afcc8a",
   "metadata": {},
   "outputs": [
    {
     "data": {
      "text/plain": [
       "Text(0, 0.5, '')"
      ]
     },
     "execution_count": 45,
     "metadata": {},
     "output_type": "execute_result"
    },
    {
     "data": {
      "image/png": "[encoded data removed]",
      "text/plain": [
       "<Figure size 576x576 with 1 Axes>"
      ]
     },
     "metadata": {},
     "output_type": "display_data"
    }
   ],
   "source": [
    "plot = df_plot.plot.pie(y = 'Revenue', subplots = True, figsize = (8,8), autopct='%1.2f%%', )\n",
    "plt.title(\"Revenue by Channel\")\n",
    "plt.ylabel(\"\")"
   ]
  },
  {
   "cell_type": "markdown",
   "id": "b17d626b",
   "metadata": {},
   "source": [
    "Conclusion: Customers prefer using Mobile and Internet to ATM"
   ]
  },
  {
   "cell_type": "markdown",
   "id": "9965fc2d",
   "metadata": {},
   "source": [
    "### Chart 2:  Bar chart shows the number transaction and revenue by channel"
   ]
  },
  {
   "cell_type": "markdown",
   "id": "a2738776",
   "metadata": {},
   "source": [
    "Change Revenue and Number Transaction to percentage"
   ]
  },
  {
   "cell_type": "code",
   "execution_count": 27,
   "id": "e5e7fe32",
   "metadata": {},
   "outputs": [
    {
     "name": "stdout",
     "output_type": "stream",
     "text": [
      "  CHANNEL_ID  Number Transactions\n",
      "0        ATM                   98\n",
      "1   INTERNET                   72\n",
      "2     MOBILE                  328\n",
      "  CHANNEL_ID    Revenue  Number Transactions\n",
      "0        ATM  179502250                   98\n",
      "1   INTERNET  768629241                   72\n",
      "2     MOBILE  818465352                  328\n",
      "              Revenue  Number Transactions\n",
      "CHANNEL_ID                                \n",
      "ATM         179502250                   98\n",
      "INTERNET    768629241                   72\n",
      "MOBILE      818465352                  328\n"
     ]
    }
   ],
   "source": [
    "count_byChannel = df.groupby(['CHANNEL_ID']).size().reset_index(name = 'Number Transactions')\n",
    "print(count_byChannel)\n",
    "df_plot2 = sum_AMT_byChannel.merge(count_byChannel, on=['CHANNEL_ID'])\n",
    "print(df_plot2)\n",
    "df_plot2 = df_plot2.set_index('CHANNEL_ID')\n",
    "print(df_plot2)"
   ]
  },
  {
   "cell_type": "code",
   "execution_count": 31,
   "id": "14aafd2e",
   "metadata": {},
   "outputs": [
    {
     "name": "stdout",
     "output_type": "stream",
     "text": [
      "1766596843\n",
      "498\n",
      "              Revenue  Number Transactions   %Revenue  %Number Transactions\n",
      "CHANNEL_ID                                                                 \n",
      "ATM         179502250                   98  10.160906             19.678715\n",
      "INTERNET    768629241                   72  43.509035             14.457831\n",
      "MOBILE      818465352                  328  46.330059             65.863454\n"
     ]
    }
   ],
   "source": [
    "total_amt = df_plot2['Revenue'].sum()\n",
    "print(total_amt)\n",
    "df_plot2['%Revenue']=df_plot2['Revenue']*100/total_amt\n",
    "\n",
    "\n",
    "total_count = df_plot2['Number Transactions'].sum()\n",
    "print(total_count)\n",
    "df_plot2['%Number Transactions']=df_plot2['Number Transactions']*100/total_count\n",
    "print(df_plot2)"
   ]
  },
  {
   "cell_type": "code",
   "execution_count": 46,
   "id": "9e942b0b",
   "metadata": {},
   "outputs": [
    {
     "data": {
      "text/plain": [
       "(array([0, 1, 2]),\n",
       " [Text(0, 0, 'MOBILE'), Text(1, 0, 'INTERNET'), Text(2, 0, 'ATM')])"
      ]
     },
     "execution_count": 46,
     "metadata": {},
     "output_type": "execute_result"
    },
    {
     "data": {
      "image/png": "[encoded data removed]",
      "text/plain": [
       "<Figure size 432x288 with 1 Axes>"
      ]
     },
     "metadata": {
      "needs_background": "light"
     },
     "output_type": "display_data"
    }
   ],
   "source": [
    "# Visualize\n",
    "my_color = [\"cornflowerblue\", \"darkorange\"]\n",
    "df_plot2.sort_values(by = '%Revenue', ascending = False).plot.bar(y = ['%Number Transactions', '%Revenue'], color = my_color )\n",
    "plt.title('Ratio Revenue and Number Transactions by Channel', fontsize = 22)\n",
    "plt.ylabel(\"%\")\n",
    "plt.xticks(rotation = 0)"
   ]
  },
  {
   "cell_type": "markdown",
   "id": "556ccfb6",
   "metadata": {},
   "source": [
    "Conclusion: Channel Mobile took the highest proportion in total output due to its convenience. On the flip side, although Internet had the lowest percentage in transaction, its volume was quite good. This is because when people would like to have a significant amount of money transaction, they would choose the Internet Banking. "
   ]
  },
  {
   "cell_type": "markdown",
   "id": "25649280",
   "metadata": {},
   "source": [
    "### Chart 3: The average transaction in every single hour in day"
   ]
  },
  {
   "cell_type": "code",
   "execution_count": 33,
   "id": "417ab2ac",
   "metadata": {},
   "outputs": [
    {
     "name": "stdout",
     "output_type": "stream",
     "text": [
      "89\n"
     ]
    }
   ],
   "source": [
    "# Count the number of days in dataset\n",
    "number_of_days = (df['TRAN_TIME'].max().date()-df['TRAN_TIME'].min().date()).days\n",
    "print(number_of_days)"
   ]
  },
  {
   "cell_type": "code",
   "execution_count": 37,
   "id": "6384a6d7",
   "metadata": {},
   "outputs": [
    {
     "name": "stdout",
     "output_type": "stream",
     "text": [
      "   CHANNEL_ID TRAN_HOUR  COUNTS_CNNTIME\n",
      "0         ATM        06              17\n",
      "1         ATM        07               9\n",
      "2         ATM        08              19\n",
      "3         ATM        09               6\n",
      "4         ATM        10              19\n",
      "5         ATM        11              10\n",
      "6         ATM        12               2\n",
      "7         ATM        13               6\n",
      "8         ATM        14               3\n",
      "9         ATM        21               7\n",
      "10   INTERNET        00               1\n",
      "11   INTERNET        01               3\n",
      "12   INTERNET        06               3\n",
      "13   INTERNET        07               3\n",
      "14   INTERNET        08               7\n",
      "15   INTERNET        09               9\n",
      "16   INTERNET        10               6\n",
      "17   INTERNET        11               7\n",
      "18   INTERNET        12               8\n",
      "19   INTERNET        13               7\n",
      "20   INTERNET        14               2\n",
      "21   INTERNET        20               1\n",
      "22   INTERNET        21               8\n",
      "23   INTERNET        22               5\n",
      "24   INTERNET        23               2\n",
      "25     MOBILE        00               1\n",
      "26     MOBILE        01             194\n",
      "27     MOBILE        02               1\n",
      "28     MOBILE        04               1\n",
      "29     MOBILE        06               4\n",
      "30     MOBILE        07               4\n",
      "31     MOBILE        08              19\n",
      "32     MOBILE        09              18\n",
      "33     MOBILE        10              18\n",
      "34     MOBILE        11               7\n",
      "35     MOBILE        12               9\n",
      "36     MOBILE        13              11\n",
      "37     MOBILE        14              15\n",
      "38     MOBILE        15               3\n",
      "39     MOBILE        20               1\n",
      "40     MOBILE        21              13\n",
      "41     MOBILE        22               6\n",
      "42     MOBILE        23               3\n",
      "CHANNEL_ID   ATM  INTERNET  MOBILE\n",
      "TRAN_HOUR                         \n",
      "00           NaN       1.0     1.0\n",
      "01           NaN       3.0   194.0\n",
      "02           NaN       NaN     1.0\n",
      "04           NaN       NaN     1.0\n",
      "06          17.0       3.0     4.0\n",
      "07           9.0       3.0     4.0\n",
      "08          19.0       7.0    19.0\n",
      "09           6.0       9.0    18.0\n",
      "10          19.0       6.0    18.0\n",
      "11          10.0       7.0     7.0\n",
      "12           2.0       8.0     9.0\n",
      "13           6.0       7.0    11.0\n",
      "14           3.0       2.0    15.0\n",
      "15           NaN       NaN     3.0\n",
      "20           NaN       1.0     1.0\n",
      "21           7.0       8.0    13.0\n",
      "22           NaN       5.0     6.0\n",
      "23           NaN       2.0     3.0\n"
     ]
    }
   ],
   "source": [
    "# Extract CHANNEL_ID, TRAN_HOUR\n",
    "df = df[['CHANNEL_ID', 'TRAN_HOUR']]\n",
    "\n",
    "# Groupby and calculate the number of channel in every single hour\n",
    "count_by_CNNTime = df.groupby(['CHANNEL_ID', 'TRAN_HOUR']).size().reset_index(name = 'COUNTS_CNNTIME')\n",
    "print(count_by_CNNTime)\n",
    "\n",
    "# Apply pivot table\n",
    "df_plot3 = pd.pivot_table(count_by_CNNTime, values = 'COUNTS_CNNTIME', index = ['TRAN_HOUR'], columns = ['CHANNEL_ID'])\n",
    "print(df_plot3)"
   ]
  },
  {
   "cell_type": "code",
   "execution_count": 39,
   "id": "67badf1b",
   "metadata": {},
   "outputs": [
    {
     "name": "stdout",
     "output_type": "stream",
     "text": [
      "CHANNEL_ID   ATM  INTERNET  MOBILE\n",
      "TRAN_HOUR                         \n",
      "00           0.0       1.0     1.0\n",
      "01           0.0       3.0   194.0\n",
      "02           0.0       0.0     1.0\n",
      "04           0.0       0.0     1.0\n",
      "06          17.0       3.0     4.0\n",
      "07           9.0       3.0     4.0\n",
      "08          19.0       7.0    19.0\n",
      "09           6.0       9.0    18.0\n",
      "10          19.0       6.0    18.0\n",
      "11          10.0       7.0     7.0\n",
      "12           2.0       8.0     9.0\n",
      "13           6.0       7.0    11.0\n",
      "14           3.0       2.0    15.0\n",
      "15           0.0       0.0     3.0\n",
      "20           0.0       1.0     1.0\n",
      "21           7.0       8.0    13.0\n",
      "22           0.0       5.0     6.0\n",
      "23           0.0       2.0     3.0\n"
     ]
    }
   ],
   "source": [
    "# NaN -> 0\n",
    "df_plot3['ATM'] = df_plot3['ATM'].fillna(0)\n",
    "df_plot3['INTERNET'] = df_plot3['INTERNET'].fillna(0)\n",
    "df_plot3['MOBILE'] = df_plot3['MOBILE'].fillna(0)\n",
    "print(df_plot3)"
   ]
  },
  {
   "cell_type": "code",
   "execution_count": 40,
   "id": "4ec7be72",
   "metadata": {},
   "outputs": [
    {
     "name": "stdout",
     "output_type": "stream",
     "text": [
      "CHANNEL_ID       ATM  INTERNET    MOBILE\n",
      "TRAN_HOUR                               \n",
      "00          0.000000  0.011236  0.011236\n",
      "01          0.000000  0.033708  2.179775\n",
      "02          0.000000  0.000000  0.011236\n",
      "04          0.000000  0.000000  0.011236\n",
      "06          0.191011  0.033708  0.044944\n",
      "07          0.101124  0.033708  0.044944\n",
      "08          0.213483  0.078652  0.213483\n",
      "09          0.067416  0.101124  0.202247\n",
      "10          0.213483  0.067416  0.202247\n",
      "11          0.112360  0.078652  0.078652\n",
      "12          0.022472  0.089888  0.101124\n",
      "13          0.067416  0.078652  0.123596\n",
      "14          0.033708  0.022472  0.168539\n",
      "15          0.000000  0.000000  0.033708\n",
      "20          0.000000  0.011236  0.011236\n",
      "21          0.078652  0.089888  0.146067\n",
      "22          0.000000  0.056180  0.067416\n",
      "23          0.000000  0.022472  0.033708\n"
     ]
    }
   ],
   "source": [
    "# Calculate the average by days\n",
    "df_plot3['ATM']=df_plot3['ATM']/number_of_days\n",
    "df_plot3['INTERNET']=df_plot3['INTERNET']/number_of_days\n",
    "df_plot3['MOBILE']=df_plot3['MOBILE']/number_of_days\n",
    "print(df_plot3)"
   ]
  },
  {
   "cell_type": "code",
   "execution_count": 41,
   "id": "3746736f",
   "metadata": {},
   "outputs": [
    {
     "data": {
      "text/plain": [
       "Text(0.5, 0, 'Hour Transactions')"
      ]
     },
     "execution_count": 41,
     "metadata": {},
     "output_type": "execute_result"
    },
    {
     "data": {
      "image/png": "[encoded data removed]",
      "text/plain": [
       "<Figure size 864x432 with 1 Axes>"
      ]
     },
     "metadata": {
      "needs_background": "light"
     },
     "output_type": "display_data"
    }
   ],
   "source": [
    "# Visualize\n",
    "df_plot3.plot(y = ['ATM', 'INTERNET', 'MOBILE'], figsize = (12, 6) , marker = 'o')\n",
    "plt.title('Average Number Transactions in every single hour by days')\n",
    "plt.ylabel('Average Number Transactions')\n",
    "plt.xlabel('Hour Transactions')"
   ]
  },
  {
   "cell_type": "markdown",
   "id": "03d19dfa",
   "metadata": {},
   "source": [
    "# In Conclusion"
   ]
  },
  {
   "cell_type": "markdown",
   "id": "7eab4de6",
   "metadata": {},
   "source": [
    "* Data source has errors, leading to unreasonable cases of transaction amounts, need to reconsider how to record and collect this source data is reliable or not\n",
    "* Internet Banking and Mobile Banking transaction channels have a higher advantage than ATM transaction channels\n",
    "* The number of transactions at the Mobile channel compared to the revenue obtained is similar, while the number of transactions at the Internet Banking channel is low, but the transaction value is much larger, while in contrast at the ATM, the number of transactions is low. The transaction volume is more than the transaction amount. Of course, further analysis is needed, but it can be temporarily assessed that people often use Mobile Banking to do small transactions, and when there are large transactions, customers will prefer to use Internet Banking, at ATM customers. There also seems to be a need to withdraw small amounts of money as well.\n",
    "* Customers have a great need to use Mobile Banking service at night, then at mid-morning, mid-afternoon and evening times. Meanwhile, Internet Banking service is used a lot during office hours. And ATM service is used more in the morning. From this information, the bank can also easily make a decision for a more reasonable time to turn off/stop his service.\n"
   ]
  }
 ],
 "metadata": {
  "kernelspec": {
   "display_name": "Python 3",
   "language": "python",
   "name": "python3"
  },
  "language_info": {
   "codemirror_mode": {
    "name": "ipython",
    "version": 3
   },
   "file_extension": ".py",
   "mimetype": "text/x-python",
   "name": "python",
   "nbconvert_exporter": "python",
   "pygments_lexer": "ipython3",
   "version": "3.8.8"
  }
 },
 "nbformat": 4,
 "nbformat_minor": 5
}
